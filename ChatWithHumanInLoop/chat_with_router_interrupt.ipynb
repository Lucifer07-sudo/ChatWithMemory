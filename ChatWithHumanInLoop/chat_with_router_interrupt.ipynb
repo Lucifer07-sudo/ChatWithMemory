{
 "cells": [
  {
   "cell_type": "code",
   "execution_count": 6,
   "id": "728540e5",
   "metadata": {},
   "outputs": [
    {
     "data": {
      "text/plain": [
       "True"
      ]
     },
     "execution_count": 6,
     "metadata": {},
     "output_type": "execute_result"
    }
   ],
   "source": [
    "from typing import TypedDict, Annotated, List\n",
    "from langgraph.graph import StateGraph, add_messages, START, END\n",
    "from langchain_groq import ChatGroq\n",
    "from langgraph.checkpoint.memory import MemorySaver\n",
    "from dotenv import load_dotenv\n",
    "from langchain_community.tools import TavilySearchResults\n",
    "from langgraph.prebuilt import ToolNode\n",
    "from langchain_core.messages import HumanMessage\n",
    "import os\n",
    "\n",
    "load_dotenv(override=True)"
   ]
  },
  {
   "cell_type": "code",
   "execution_count": null,
   "id": "c020fe33",
   "metadata": {},
   "outputs": [],
   "source": [
    "# creating memory to store checkpoints\n",
    "memory = MemorySaver()\n",
    "\n",
    "# define tools\n",
    "search_tool = TavilySearchResults(max_results=2)\n",
    "tools = [search_tool]\n",
    "\n",
    "# create llm instance and bind with tools\n",
    "llm = ChatGroq(\n",
    "    api_key=os.getenv('GROQ_API_KEY'),\n",
    "    model = \"llama-3.1-8b-instant\"\n",
    ")\n",
    "\n",
    "llm_with_tools = llm.bind_tools(tools=tools)\n",
    "\n",
    "# create graph state\n",
    "class BasicState(TypedDict):\n",
    "    messages : Annotated[list, add_messages]\n",
    "\n",
    "# function to invoke llm\n",
    "def chatbot(state : BasicState):\n",
    "    return {\n",
    "        \"messages\" : [llm_with_tools.invoke(state[\"messages\"])]\n",
    "    }\n",
    "\n",
    "# router function\n",
    "def tool_router(state : BasicState):\n",
    "    llm_response = state[\"messages\"][-1]\n",
    "    if(hasattr(llm_response, \"tool_calls\")  and len(llm_response.tool_calls) > 0):\n",
    "        return \"tools\"\n",
    "    else:\n",
    "        return \"end\"\n",
    "\n",
    "#create Graph\n",
    "graph = StateGraph(BasicState)\n",
    "\n",
    "# add graph nodes\n",
    "graph.add_node(\"chatbot\", chatbot)\n",
    "graph.add_node(\"tools\", ToolNode(tools=tools))\n",
    "\n",
    "# graph entry point\n",
    "graph.set_entry_point(\"chatbot\")\n",
    "\n",
    "# graph edges\n",
    "graph.add_conditional_edges(\"chatbot\",tool_router, {\"tools\": \"tools\", \"end\":END})\n",
    "graph.add_edge(\"tools\",\"chatbot\")\n",
    "\n",
    "# compile with checkpoint and interrupt to review tool call by Human in Loop\n",
    "app = graph.compile(checkpointer=memory, interrupt_before=[\"tools\"])"
   ]
  },
  {
   "cell_type": "code",
   "execution_count": null,
   "id": "c65e4d7e",
   "metadata": {},
   "outputs": [
    {
     "data": {
      "image/png": "[encoded data removed]",
      "text/plain": [
       "<IPython.core.display.Image object>"
      ]
     },
     "metadata": {},
     "output_type": "display_data"
    }
   ],
   "source": [
    "from IPython.display import Image, display\n",
    "\n",
    "# display graph\n",
    "display(Image(app.get_graph().draw_mermaid_png()))"
   ]
  },
  {
   "cell_type": "code",
   "execution_count": null,
   "id": "58254dae",
   "metadata": {},
   "outputs": [
    {
     "name": "stdout",
     "output_type": "stream",
     "text": [
      "================================\u001b[1m Human Message \u001b[0m=================================\n",
      "\n",
      "What is current weather of Kolkata?\n",
      "==================================\u001b[1m Ai Message \u001b[0m==================================\n",
      "Tool Calls:\n",
      "  tavily_search_results_json (4tagd1874)\n",
      " Call ID: 4tagd1874\n",
      "  Args:\n",
      "    query: Kolkata weather update now\n"
     ]
    }
   ],
   "source": [
    "# creating config for user\n",
    "config = {\"configurable\": {\n",
    "    \"thread_id\":1\n",
    "}}\n",
    "\n",
    "# streaming app to review intermediate steps and very tool calls by Human In Loop\n",
    "events = app.stream({\n",
    "    \"messages\": [HumanMessage(content=\"What is current weather of Kolkata?\")]\n",
    "}, config=config, stream_mode=\"values\"\n",
    ")\n",
    "\n",
    "for event in events:\n",
    "    event[\"messages\"][-1].pretty_print()"
   ]
  },
  {
   "cell_type": "code",
   "execution_count": 34,
   "id": "a58922d4",
   "metadata": {},
   "outputs": [
    {
     "data": {
      "text/plain": [
       "('tools',)"
      ]
     },
     "execution_count": 34,
     "metadata": {},
     "output_type": "execute_result"
    }
   ],
   "source": [
    "snapshot = app.get_state(config=config)\n",
    "snapshot.next"
   ]
  },
  {
   "cell_type": "code",
   "execution_count": null,
   "id": "380f69c8",
   "metadata": {},
   "outputs": [
    {
     "name": "stdout",
     "output_type": "stream",
     "text": [
      "==================================\u001b[1m Ai Message \u001b[0m==================================\n",
      "\n",
      "The current weather in Kolkata is mostly cloudy with a high chance of rain and thunderstorms. The temperature is around 92-94°F (33-34°C) during the day and 81-83°F (27-28°C) at night. There is a moderate wind speed of 8-10 mph (13-16 km/h) and a humidity level of 61-69%. The UV index is moderate. It is recommended to bring a waterproof jacket and to drink plenty of water due to the hot weather.\n"
     ]
    }
   ],
   "source": [
    "# running graph after Human in Loop validates tool call\n",
    "events = app.stream(None, config=config, stream_mode=\"values\")\n",
    "\n",
    "for event in events:\n",
    "    event[\"messages\"][-1].pretty_print()"
   ]
  },
  {
   "cell_type": "code",
   "execution_count": null,
   "id": "6ed40224",
   "metadata": {},
   "outputs": [],
   "source": []
  }
 ],
 "metadata": {
  "kernelspec": {
   "display_name": "myenv",
   "language": "python",
   "name": "python3"
  },
  "language_info": {
   "codemirror_mode": {
    "name": "ipython",
    "version": 3
   },
   "file_extension": ".py",
   "mimetype": "text/x-python",
   "name": "python",
   "nbconvert_exporter": "python",
   "pygments_lexer": "ipython3",
   "version": "3.13.3"
  }
 },
 "nbformat": 4,
 "nbformat_minor": 5
}
